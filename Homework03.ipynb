{
  "nbformat": 4,
  "nbformat_minor": 0,
  "metadata": {
    "colab": {
      "provenance": []
    },
    "kernelspec": {
      "name": "python3",
      "display_name": "Python 3"
    },
    "language_info": {
      "name": "python"
    }
  },
  "cells": [
    {
      "cell_type": "code",
      "source": [
        "# Swetha Repalli\n",
        "# 04/05/2023"
      ],
      "metadata": {
        "id": "jT-e6aMls5O2"
      },
      "execution_count": null,
      "outputs": []
    },
    {
      "cell_type": "code",
      "execution_count": 16,
      "metadata": {
        "id": "vK73UorwU9Q8"
      },
      "outputs": [],
      "source": [
        "# Part I:\n",
        "\n",
        "def buildTable(X, Y, match=1, mismatch=-1, gap=-1):\n",
        "    print(\"Sequence 1:\", X)\n",
        "    print(\"Sequence 2:\", Y)\n",
        "\n",
        "    # Task 1\n",
        "    opt = [[0 for j in range(len(Y) + 1)] for i in range(len(X) + 1)]\n",
        "\n",
        "    # Task 2\n",
        "    for i in range(1, len(X) + 1):\n",
        "        opt[i][0] = opt[i-1][0] + gap\n",
        "    \n",
        "    for j in range(1, len(Y) + 1):\n",
        "        opt[0][j] = opt[0][j-1] + gap\n",
        "    \n",
        "    # Task 3\n",
        "    for i in range(1, len(X) + 1):\n",
        "        for j in range(1, len(Y) + 1):\n",
        "            match_mismatch = opt[i-1][j-1] + (match if X[i-1] == Y[j-1] else mismatch)\n",
        "            gap_x = opt[i-1][j] + gap\n",
        "            gap_y = opt[i][j-1] + gap\n",
        "            opt[i][j] = max(match_mismatch, gap_x, gap_y)\n",
        "\n",
        "    # Task 4\n",
        "    return opt"
      ]
    },
    {
      "cell_type": "code",
      "source": [
        "# Part II\n",
        "\n",
        "def trace_back(seq1, seq2, table, match_score, mismatch_score, gap_score):\n",
        "    \"\"\"\n",
        "    Applies the traceback algorithm for alignment construction.\n",
        "\n",
        "    Parameters:\n",
        "        seq1 (str): First sequence.\n",
        "        seq2 (str): Second sequence.\n",
        "        table (list): Alignment table from the buildTable() function.\n",
        "        match_score (int): Score for nucleotide match.\n",
        "        mismatch_score (int): Score for nucleotide mismatch.\n",
        "        gap_score (int): Score for inserted gap.\n",
        "\n",
        "    Returns:\n",
        "        tuple: A tuple containing the first sequence aligned with gaps, a string indicating\n",
        "               matching/mismatching positions, and the second sequence aligned with gaps.\n",
        "    \"\"\"\n",
        "\n",
        "    # Initialize the aligned sequences and the matching/mismatching positions\n",
        "    aligned_seq1 = ''\n",
        "    aligned_seq2 = ''\n",
        "    matching_positions = ''\n",
        "\n",
        "    # Start the traceback algorithm at the bottom-right of the table\n",
        "    i = len(seq1)\n",
        "    j = len(seq2)\n",
        "\n",
        "    while i > 0 or j > 0:\n",
        "\n",
        "        # Check if the best score at cell (i, j) is derived from the top-left cell with diagonal direction\n",
        "        if i > 0 and j > 0 and ((seq1[i-1] == seq2[j-1] and table[i][j] == table[i-1][j-1] + match_score) or (seq1[i-1] != seq2[j-1] and table[i][j] == table[i-1][j-1] + mismatch_score)):\n",
        "            # Option 1: Match seq1[i-1] with seq2[j-1]\n",
        "            aligned_seq1 = seq1[i-1] + aligned_seq1\n",
        "            aligned_seq2 = seq2[j-1] + aligned_seq2\n",
        "            if seq1[i-1] == seq2[j-1]:\n",
        "                matching_positions = '|' + matching_positions   # Designate match\n",
        "            else:\n",
        "                matching_positions = '.' + matching_positions   # Designate mismatch\n",
        "            i -= 1\n",
        "            j -= 1\n",
        "\n",
        "        # Check if the best score at cell (i, j) is derived from the top cell with vertical direction\n",
        "        elif i > 0 and table[i][j] == table[i-1][j] + gap_score:\n",
        "            # Option 2: Match seq1[i-1] with a gap in seq2\n",
        "            aligned_seq1 = seq1[i-1] + aligned_seq1\n",
        "            aligned_seq2 = '-' + aligned_seq2\n",
        "            matching_positions = ' ' + matching_positions\n",
        "            i -= 1\n",
        "\n",
        "        # Check if the best score at cell (i, j) is derived from the left cell with horizontal direction\n",
        "        elif j > 0 and table[i][j] == table[i][j-1] + gap_score:\n",
        "            # Option 3: Match a gap in seq1 with seq2[j-1]\n",
        "            aligned_seq1 = '-' + aligned_seq1\n",
        "            aligned_seq2 = seq2[j-1] + aligned_seq2\n",
        "            matching_positions = ' ' + matching_positions\n",
        "            j -= 1\n",
        "\n",
        "    return (aligned_seq1, matching_positions, aligned_seq2)\n"
      ],
      "metadata": {
        "id": "n0Y8GQ0ZpZDP"
      },
      "execution_count": 8,
      "outputs": []
    },
    {
      "cell_type": "code",
      "source": [
        "# Testing Both Functions\n",
        "\n",
        "table = buildTable('CACCT','AACT',match=2, mismatch=-1, gap=-1)\n",
        "trace_back('CACCT','AACT', table, 2, -1, -1)"
      ],
      "metadata": {
        "colab": {
          "base_uri": "https://localhost:8080/"
        },
        "id": "AJEKpZAoqJUs",
        "outputId": "3d10b265-e440-43a6-dd94-8a310d9385c2"
      },
      "execution_count": 17,
      "outputs": [
        {
          "output_type": "stream",
          "name": "stdout",
          "text": [
            "Sequence 1: CACCT\n",
            "Sequence 2: AACT\n"
          ]
        },
        {
          "output_type": "execute_result",
          "data": {
            "text/plain": [
              "('CACCT', ' |.||', '-AACT')"
            ]
          },
          "metadata": {},
          "execution_count": 17
        }
      ]
    },
    {
      "cell_type": "code",
      "source": [
        "# define the sequences\n",
        "seq1 = 'TTGCT'\n",
        "seq2 = 'CTTCCT'\n",
        "\n",
        "# define the match, mismatch, and gap scores\n",
        "match_score = 1\n",
        "mismatch_score = -1\n",
        "gap_score = -1\n",
        "\n",
        "# build the alignment table\n",
        "table = buildTable(seq1, seq2, match_score, mismatch_score, gap_score)\n",
        "\n",
        "# print the scores\n",
        "print(\"Match score:\", match_score)\n",
        "print(\"Mismatch score:\", mismatch_score)\n",
        "print(\"Gap score:\", gap_score)\n",
        "\n",
        "# print the alignment table\n",
        "print(\"Alignment table:\")\n",
        "for row in table:\n",
        "    print(row)\n",
        "\n",
        "# find the optimal alignment\n",
        "optimal_alignment = trace_back(seq1, seq2, table, match_score, mismatch_score, gap_score)\n",
        "\n",
        "# print the score for the optimal alignment\n",
        "optimal_score = table[len(seq1)][len(seq2)]\n",
        "print(\"Score for the optimal alignment:\", optimal_score)\n"
      ],
      "metadata": {
        "colab": {
          "base_uri": "https://localhost:8080/"
        },
        "id": "iZIoexpNqu-e",
        "outputId": "b046c6b0-262b-4d66-be85-857f62f504a9"
      },
      "execution_count": 18,
      "outputs": [
        {
          "output_type": "stream",
          "name": "stdout",
          "text": [
            "Sequence 1: TTGCT\n",
            "Sequence 2: CTTCCT\n",
            "Match score: 1\n",
            "Mismatch score: -1\n",
            "Gap score: -1\n",
            "Alignment table:\n",
            "[0, -1, -2, -3, -4, -5, -6]\n",
            "[-1, -1, 0, -1, -2, -3, -4]\n",
            "[-2, -2, 0, 1, 0, -1, -2]\n",
            "[-3, -3, -1, 0, 0, -1, -2]\n",
            "[-4, -2, -2, -1, 1, 1, 0]\n",
            "[-5, -3, -1, -1, 0, 0, 2]\n",
            "Score for the optimal alignment: 2\n"
          ]
        }
      ]
    },
    {
      "cell_type": "code",
      "source": [
        "# define the sequences\n",
        "seq1 = 'ACCCGGTTAA'\n",
        "seq2 = 'AGCGACTAA'\n",
        "\n",
        "# define the match, mismatch, and gap scores\n",
        "match_score = 1\n",
        "mismatch_score = -1\n",
        "gap_score = -1\n",
        "\n",
        "# build the alignment table\n",
        "table = buildTable(seq1, seq2, match_score, mismatch_score, gap_score)\n",
        "\n",
        "# print the scores\n",
        "print(\"Match score:\", match_score)\n",
        "print(\"Mismatch score:\", mismatch_score)\n",
        "print(\"Gap score:\", gap_score)\n",
        "\n",
        "# print the alignment table\n",
        "print(\"Alignment table:\")\n",
        "for row in table:\n",
        "    print(row)\n",
        "\n",
        "# find the optimal alignment\n",
        "optimal_alignment = trace_back(seq1, seq2, table, match_score, mismatch_score, gap_score)\n",
        "\n",
        "# print the score for the optimal alignment\n",
        "optimal_score = table[len(seq1)][len(seq2)]\n",
        "print(\"Score for the optimal alignment:\", optimal_score)\n"
      ],
      "metadata": {
        "colab": {
          "base_uri": "https://localhost:8080/"
        },
        "id": "SYZOZPjyrFeh",
        "outputId": "d7a6f81c-22d9-4f08-be16-da4f146f70dc"
      },
      "execution_count": 15,
      "outputs": [
        {
          "output_type": "stream",
          "name": "stdout",
          "text": [
            "Sequence 1: ACCCGGTTAA\n",
            "Sequence 2: AGCGACTAA\n",
            "Match score: 1\n",
            "Mismatch score: -1\n",
            "Gap score: -1\n",
            "Alignment table:\n",
            "[0, -1, -2, -3, -4, -5, -6, -7, -8, -9]\n",
            "[-1, 1, 0, -1, -2, -3, -4, -5, -6, -7]\n",
            "[-2, 0, 0, 1, 0, -1, -2, -3, -4, -5]\n",
            "[-3, -1, -1, 1, 0, -1, 0, -1, -2, -3]\n",
            "[-4, -2, -2, 0, 0, -1, 0, -1, -2, -3]\n",
            "[-5, -3, -1, -1, 1, 0, -1, -1, -2, -3]\n",
            "[-6, -4, -2, -2, 0, 0, -1, -2, -2, -3]\n",
            "[-7, -5, -3, -3, -1, -1, -1, 0, -1, -2]\n",
            "[-8, -6, -4, -4, -2, -2, -2, 0, -1, -2]\n",
            "[-9, -7, -5, -5, -3, -1, -2, -1, 1, 0]\n",
            "[-10, -8, -6, -6, -4, -2, -2, -2, 0, 2]\n",
            "Score for the optimal alignment: 2\n"
          ]
        }
      ]
    }
  ]
}